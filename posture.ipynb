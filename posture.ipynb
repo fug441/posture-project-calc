{
 "cells": [
  {
   "cell_type": "code",
   "execution_count": 1,
   "id": "836de1b4",
   "metadata": {},
   "outputs": [
    {
     "name": "stdout",
     "output_type": "stream",
     "text": [
      "C:\\Users\\anaya\\CodeFiles\\Posture project calc\n"
     ]
    }
   ],
   "source": [
    "import os\n",
    "os.chdir(r\"C:\\Users\\anaya\\CodeFiles\\Posture project calc\")\n",
    "\n",
    "print(os.getcwd())"
   ]
  },
  {
   "cell_type": "code",
   "execution_count": 2,
   "id": "e73c7262",
   "metadata": {},
   "outputs": [
    {
     "data": {
      "text/plain": [
       "0    0.000082\n",
       "1    0.000144\n",
       "2    0.000219\n",
       "3    0.000299\n",
       "4    0.000372\n",
       "Name: Z7, dtype: float64"
      ]
     },
     "execution_count": 2,
     "metadata": {},
     "output_type": "execute_result"
    }
   ],
   "source": [
    "import pandas as pd\n",
    "import numpy as np\n",
    "import seaborn as sb\n",
    "\n",
    "df = pd.read_csv(\"1.csv\")\n",
    "df.to_numpy()\n",
    "df.head()\n",
    "\n",
    "posture1 = pd.read_csv(\"1.csv\", usecols=['X1', 'Z1'])\n",
    "posture2 = pd.read_csv(\"1.csv\", usecols=['X3', 'Z3'])\n",
    "posture3 = pd.read_csv(\"1.csv\", usecols=['X5', 'Z5'])\n",
    "posture4 = pd.read_csv(\"1.csv\", usecols=['X7', 'Z7'])\n",
    "\n",
    "\n",
    "\n",
    "X1= posture1.X1\n",
    "X2= posture2.X3\n",
    "X3= posture3.X5\n",
    "X4= posture4.X7\n",
    "\n",
    "Y1= posture1.Z1\n",
    "Y2= posture2.Z3\n",
    "Y3= posture3.Z5\n",
    "Y4= posture4.Z7\n",
    "\n",
    "X1.head()\n",
    "Y4.head()\n",
    "\n"
   ]
  },
  {
   "cell_type": "code",
   "execution_count": 3,
   "id": "4dbe0fb7",
   "metadata": {},
   "outputs": [
    {
     "name": "stdout",
     "output_type": "stream",
     "text": [
      "<class 'numpy.ndarray'>\n",
      "[0. 0. 0. ... 0. 0. 0.]\n"
     ]
    }
   ],
   "source": [
    "# Differentiation of t is 1 as time is confirmed to be monotonic.\n",
    "dt = 1 \n",
    "\n",
    "axes = {\"X1\": X1, \n",
    "        \"X2\": X2, \n",
    "        \"X3\": X3, \n",
    "        \"X4\": X4,\n",
    "\n",
    "        \"Y1\": Y1, \n",
    "        \"Y2\": Y2, \n",
    "        \"Y3\": Y3, \n",
    "        \"Y4\": Y4}\n",
    "\n",
    "\n",
    "#changing the global variable for X1, X2, etc instead of just changing the copy of it inside the axes dictionary.\n",
    "for key in axes:\n",
    "    globals()[key] = globals()[key].to_numpy() \n",
    "    axes[key] = globals()[key]\n",
    "\n",
    "\n",
    "for key, value in axes.items():\n",
    "    primes= globals()[f\"{key}_prime\"] =np.zeros_like(value)\n",
    "    primes2= globals()[f\"{key}_2prime\"] =np.zeros_like(value)\n",
    "\n",
    "print(type(X1))\n",
    "print(Y2_prime)\n",
    "\n",
    "\n",
    "\n"
   ]
  },
  {
   "cell_type": "code",
   "execution_count": 5,
   "id": "e53e5c8b",
   "metadata": {},
   "outputs": [
    {
     "name": "stdout",
     "output_type": "stream",
     "text": [
      "[ 2.42000000e-05  5.00000000e-06  8.56000000e-07 ... -1.00000000e-07\n",
      "  6.77626358e-21 -1.06200000e-04]\n"
     ]
    }
   ],
   "source": [
    "for key, value in axes.items():\n",
    "    globals()[f\"{key}_prime\"][0] = (value[1] - value[0])/2*dt\n",
    "    globals()[f\"{key}_prime\"][-1]= (value[-1] - value[-2])/2*dt\n",
    "    globals()[f\"{key}_2prime\"][0] = (value[1] + value[0] - 2*value[0])/dt**2\n",
    "    globals()[f\"{key}_2prime\"][-1] = (value[-1] + value[-2] - 2*value[0])/dt**2\n",
    "\n",
    "#Taking the central difference for all the other records:\n",
    "for i in range(1, len(globals()[f\"{key}_prime\"])-1):\n",
    "    for key, value in axes.items():\n",
    "        globals()[f\"{key}_prime\"][i] = (value[i+1] - value[i-1])/2*dt\n",
    "        globals()[f\"{key}_2prime\"][i] = (value[i+1] + value[i-1] - 2*value[i])/dt**2\n",
    "\n",
    "print(X1_2prime)"
   ]
  }
 ],
 "metadata": {
  "kernelspec": {
   "display_name": "base",
   "language": "python",
   "name": "python3"
  },
  "language_info": {
   "codemirror_mode": {
    "name": "ipython",
    "version": 3
   },
   "file_extension": ".py",
   "mimetype": "text/x-python",
   "name": "python",
   "nbconvert_exporter": "python",
   "pygments_lexer": "ipython3",
   "version": "3.11.7"
  }
 },
 "nbformat": 4,
 "nbformat_minor": 5
}
