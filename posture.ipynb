{
 "cells": [
  {
   "cell_type": "code",
   "execution_count": 18,
   "id": "e73c7262",
   "metadata": {},
   "outputs": [
    {
     "data": {
      "text/plain": [
       "0    0.000082\n",
       "1    0.000144\n",
       "2    0.000219\n",
       "3    0.000299\n",
       "4    0.000372\n",
       "Name: Z7, dtype: float64"
      ]
     },
     "execution_count": 18,
     "metadata": {},
     "output_type": "execute_result"
    }
   ],
   "source": [
    "import pandas as pd\n",
    "import numpy as np\n",
    "import seaborn as sb\n",
    "\n",
    "df = pd.read_csv(\"1.csv\")\n",
    "df.to_numpy()\n",
    "df.head()\n",
    "\n",
    "posture1 = pd.read_csv(\"1.csv\", usecols=['X1', 'Z1'])\n",
    "posture2 = pd.read_csv(\"1.csv\", usecols=['X3', 'Z3'])\n",
    "posture3 = pd.read_csv(\"1.csv\", usecols=['X5', 'Z5'])\n",
    "posture4 = pd.read_csv(\"1.csv\", usecols=['X7', 'Z7'])\n",
    "\n",
    "\n",
    "\n",
    "X1= posture1.X1\n",
    "X2= posture2.X3\n",
    "X3= posture3.X5\n",
    "X4= posture4.X7\n",
    "\n",
    "Y1= posture1.Z1\n",
    "Y2= posture2.Z3\n",
    "Y3= posture3.Z5\n",
    "Y4= posture4.Z7\n",
    "\n",
    "X1.head()\n",
    "Y4.head()\n",
    "\n"
   ]
  },
  {
   "cell_type": "code",
   "execution_count": null,
   "id": "4dbe0fb7",
   "metadata": {},
   "outputs": [
    {
     "ename": "SyntaxError",
     "evalue": "cannot assign to f-string expression here. Maybe you meant '==' instead of '='? (2284674806.py, line 11)",
     "output_type": "error",
     "traceback": [
      "  \u001b[36mCell\u001b[39m\u001b[36m \u001b[39m\u001b[32mIn[20]\u001b[39m\u001b[32m, line 11\u001b[39m\n\u001b[31m    \u001b[39m\u001b[31mf'{key}_prime' = np.zeros_like(key)\u001b[39m\n    ^\n\u001b[31mSyntaxError\u001b[39m\u001b[31m:\u001b[39m cannot assign to f-string expression here. Maybe you meant '==' instead of '='?\n"
     ]
    }
   ],
   "source": [
    "# Differentiation of t is 1 as time is confirmed to be monotonic.\n",
    "dt = 1 \n",
    "\n",
    "axes = {\"X1\": X1, \"X2\": X2, \"X3\": X3, \"X4\": X4,\n",
    "        \"Y1\": Y1, \"Y2\": Y2, \"Y3\": Y3, \"Y4\": Y4}\n",
    "\n",
    "for key in axes:\n",
    "    axes[key] = axes[key].to_numpy()\n",
    "\n",
    "for key in axes:\n",
    "    f'{key}_prime' = np.zeros_like(key)\n",
    "    f'{key}_2prime' = np.zeros_like(key)\n",
    "X1, X2, X3, X4, Y1, Y2, Y3, Y4 = axes.values()\n",
    "\n",
    "# Initializing first and second differentiated dataframes with zero, using the zeros_like function to maintain the desired shape of the df. \n",
    "x1_prime = np.zeros_like(X1)\n",
    "y1_prime = np.zeros_like(Y1)\n",
    "x2_prime = np.zeros_like(X2)\n",
    "y2_prime = np.zeros_like(Y2)\n",
    "x3_prime = np.zeros_like(X3)\n",
    "y3_prime = np.zeros_like(Y3)\n",
    "x4_prime = np.zeros_like(X4)\n",
    "y4_prime = np.zeros_like(Y4)\n",
    "\n",
    "x1_2prime = np.zeros_like(X1)\n",
    "y1_2prime = np.zeros_like(Y1)\n",
    "x2_2prime = np.zeros_like(X2)\n",
    "y2_2prime = np.zeros_like(Y2)\n",
    "x3_2prime = np.zeros_like(X3)\n",
    "y3_2prime = np.zeros_like(Y3)\n",
    "x4_2prime = np.zeros_like(X4)\n",
    "y4_2prime = np.zeros_like(Y4)\n",
    "\n",
    "print(type(X1))\n",
    "\n",
    "print(x1_prime)\n",
    "print(y4_2prime)"
   ]
  },
  {
   "cell_type": "code",
   "execution_count": 15,
   "id": "0576cc94",
   "metadata": {},
   "outputs": [
    {
     "ename": "KeyError",
     "evalue": "-1",
     "output_type": "error",
     "traceback": [
      "\u001b[31m---------------------------------------------------------------------------\u001b[39m",
      "\u001b[31mValueError\u001b[39m                                Traceback (most recent call last)",
      "\u001b[36mFile \u001b[39m\u001b[32mc:\\Users\\anaya\\CodeFiles\\.venv\\Lib\\site-packages\\pandas\\core\\indexes\\range.py:413\u001b[39m, in \u001b[36mRangeIndex.get_loc\u001b[39m\u001b[34m(self, key)\u001b[39m\n\u001b[32m    412\u001b[39m \u001b[38;5;28;01mtry\u001b[39;00m:\n\u001b[32m--> \u001b[39m\u001b[32m413\u001b[39m     \u001b[38;5;28;01mreturn\u001b[39;00m \u001b[38;5;28;43mself\u001b[39;49m\u001b[43m.\u001b[49m\u001b[43m_range\u001b[49m\u001b[43m.\u001b[49m\u001b[43mindex\u001b[49m\u001b[43m(\u001b[49m\u001b[43mnew_key\u001b[49m\u001b[43m)\u001b[49m\n\u001b[32m    414\u001b[39m \u001b[38;5;28;01mexcept\u001b[39;00m \u001b[38;5;167;01mValueError\u001b[39;00m \u001b[38;5;28;01mas\u001b[39;00m err:\n",
      "\u001b[31mValueError\u001b[39m: -1 is not in range",
      "\nThe above exception was the direct cause of the following exception:\n",
      "\u001b[31mKeyError\u001b[39m                                  Traceback (most recent call last)",
      "\u001b[36mCell\u001b[39m\u001b[36m \u001b[39m\u001b[32mIn[15]\u001b[39m\u001b[32m, line 14\u001b[39m\n\u001b[32m     12\u001b[39m x1_prime[-\u001b[32m1\u001b[39m] = (X1[-\u001b[32m1\u001b[39m] - X1[-\u001b[32m2\u001b[39m])/\u001b[32m2\u001b[39m*dt\n\u001b[32m     13\u001b[39m y1_prime[-\u001b[32m1\u001b[39m] = (Y1[-\u001b[32m1\u001b[39m] - Y1[-\u001b[32m2\u001b[39m])/\u001b[32m2\u001b[39m*dt\n\u001b[32m---> \u001b[39m\u001b[32m14\u001b[39m x2_prime[-\u001b[32m1\u001b[39m] = (\u001b[43mX2\u001b[49m\u001b[43m[\u001b[49m\u001b[43m-\u001b[49m\u001b[32;43m1\u001b[39;49m\u001b[43m]\u001b[49m - X1[-\u001b[32m2\u001b[39m])/\u001b[32m2\u001b[39m*dt\n\u001b[32m     15\u001b[39m y2_prime[-\u001b[32m1\u001b[39m] = (Y2[\u001b[32m1\u001b[39m] - Y2[-\u001b[32m2\u001b[39m])/\u001b[32m2\u001b[39m*dt\n\u001b[32m     16\u001b[39m x3_prime[-\u001b[32m1\u001b[39m] = (X3[\u001b[32m1\u001b[39m] - X3[-\u001b[32m2\u001b[39m])/\u001b[32m2\u001b[39m*dt\n",
      "\u001b[36mFile \u001b[39m\u001b[32mc:\\Users\\anaya\\CodeFiles\\.venv\\Lib\\site-packages\\pandas\\core\\series.py:1130\u001b[39m, in \u001b[36mSeries.__getitem__\u001b[39m\u001b[34m(self, key)\u001b[39m\n\u001b[32m   1127\u001b[39m     \u001b[38;5;28;01mreturn\u001b[39;00m \u001b[38;5;28mself\u001b[39m._values[key]\n\u001b[32m   1129\u001b[39m \u001b[38;5;28;01melif\u001b[39;00m key_is_scalar:\n\u001b[32m-> \u001b[39m\u001b[32m1130\u001b[39m     \u001b[38;5;28;01mreturn\u001b[39;00m \u001b[38;5;28;43mself\u001b[39;49m\u001b[43m.\u001b[49m\u001b[43m_get_value\u001b[49m\u001b[43m(\u001b[49m\u001b[43mkey\u001b[49m\u001b[43m)\u001b[49m\n\u001b[32m   1132\u001b[39m \u001b[38;5;66;03m# Convert generator to list before going through hashable part\u001b[39;00m\n\u001b[32m   1133\u001b[39m \u001b[38;5;66;03m# (We will iterate through the generator there to check for slices)\u001b[39;00m\n\u001b[32m   1134\u001b[39m \u001b[38;5;28;01mif\u001b[39;00m is_iterator(key):\n",
      "\u001b[36mFile \u001b[39m\u001b[32mc:\\Users\\anaya\\CodeFiles\\.venv\\Lib\\site-packages\\pandas\\core\\series.py:1246\u001b[39m, in \u001b[36mSeries._get_value\u001b[39m\u001b[34m(self, label, takeable)\u001b[39m\n\u001b[32m   1243\u001b[39m     \u001b[38;5;28;01mreturn\u001b[39;00m \u001b[38;5;28mself\u001b[39m._values[label]\n\u001b[32m   1245\u001b[39m \u001b[38;5;66;03m# Similar to Index.get_value, but we do not fall back to positional\u001b[39;00m\n\u001b[32m-> \u001b[39m\u001b[32m1246\u001b[39m loc = \u001b[38;5;28;43mself\u001b[39;49m\u001b[43m.\u001b[49m\u001b[43mindex\u001b[49m\u001b[43m.\u001b[49m\u001b[43mget_loc\u001b[49m\u001b[43m(\u001b[49m\u001b[43mlabel\u001b[49m\u001b[43m)\u001b[49m\n\u001b[32m   1248\u001b[39m \u001b[38;5;28;01mif\u001b[39;00m is_integer(loc):\n\u001b[32m   1249\u001b[39m     \u001b[38;5;28;01mreturn\u001b[39;00m \u001b[38;5;28mself\u001b[39m._values[loc]\n",
      "\u001b[36mFile \u001b[39m\u001b[32mc:\\Users\\anaya\\CodeFiles\\.venv\\Lib\\site-packages\\pandas\\core\\indexes\\range.py:415\u001b[39m, in \u001b[36mRangeIndex.get_loc\u001b[39m\u001b[34m(self, key)\u001b[39m\n\u001b[32m    413\u001b[39m         \u001b[38;5;28;01mreturn\u001b[39;00m \u001b[38;5;28mself\u001b[39m._range.index(new_key)\n\u001b[32m    414\u001b[39m     \u001b[38;5;28;01mexcept\u001b[39;00m \u001b[38;5;167;01mValueError\u001b[39;00m \u001b[38;5;28;01mas\u001b[39;00m err:\n\u001b[32m--> \u001b[39m\u001b[32m415\u001b[39m         \u001b[38;5;28;01mraise\u001b[39;00m \u001b[38;5;167;01mKeyError\u001b[39;00m(key) \u001b[38;5;28;01mfrom\u001b[39;00m\u001b[38;5;250m \u001b[39m\u001b[34;01merr\u001b[39;00m\n\u001b[32m    416\u001b[39m \u001b[38;5;28;01mif\u001b[39;00m \u001b[38;5;28misinstance\u001b[39m(key, Hashable):\n\u001b[32m    417\u001b[39m     \u001b[38;5;28;01mraise\u001b[39;00m \u001b[38;5;167;01mKeyError\u001b[39;00m(key)\n",
      "\u001b[31mKeyError\u001b[39m: -1"
     ]
    }
   ],
   "source": [
    "# Since the very first and very last entries in each of the posture columns do not have the previous and next entries respectively, the central difference formula for differentiation cannot be applied; hence we take the forward and backward differences instead:\n",
    "\n",
    "x1_prime[0] = (X1[1] - X1[0])/2*dt\n",
    "y1_prime[0] = (Y1[1] - Y1[0])/2*dt\n",
    "x2_prime[0] = (X2[1] - X1[0])/2*dt\n",
    "y2_prime[0] = (Y2[1] - Y2[0])/2*dt\n",
    "x3_prime[0] = (X3[1] - X3[0])/2*dt\n",
    "y3_prime[0] = (Y3[1] - Y3[0])/2*dt\n",
    "x4_prime[0] = (X4[1] - X4[0])/2*dt\n",
    "y4_prime[0] = (Y4[1] - Y4[0])/2*dt\n",
    "\n",
    "x1_prime[-1] = (X1[-1] - X1[-2])/2*dt\n",
    "y1_prime[-1] = (Y1[-1] - Y1[-2])/2*dt\n",
    "x2_prime[-1] = (X2[-1] - X1[-2])/2*dt\n",
    "y2_prime[-1] = (Y2[1] - Y2[-2])/2*dt\n",
    "x3_prime[-1] = (X3[1] - X3[-2])/2*dt\n",
    "y3_prime[-1] = (Y3[1] - Y3[-2])/2*dt\n",
    "x4_prime[-1] = (X4[1] - X4[-2])/2*dt\n",
    "y4_prime[-1] = (Y4[1] - Y4[-2])/2*dt\n",
    "\n",
    "print(x1_prime[0])\n",
    "print(y4_prime[-1])\n"
   ]
  },
  {
   "cell_type": "code",
   "execution_count": null,
   "id": "14fcdc22",
   "metadata": {},
   "outputs": [],
   "source": [
    "#Taking the central difference for all other records:\n",
    "\n",
    "for i in range(1, len(X1)-1):\n",
    "    x1_prime[i]= (X1[i+1] - X1[i-1])/2*dt\n",
    "    y1_prime[i]= (Y1[i+1] - Y1[i-1])/2*dt\n",
    "    x2_prime[i]= (X2[i+1] - X2[i-1])/2*dt\n",
    "    y2_prime[i]= (Y2[i+1] - Y2[i-1])/2*dt\n",
    "    x3_prime[i]= (X3[i+1] - X3[i-1])/2*dt\n",
    "    y3_prime[i]= (Y3[i+1] - Y3[i-1])/2*dt\n",
    "    x4_prime[i]= (X4[i+1] - X4[i-1])/2*dt\n",
    "    y4_prime[i]= (Y4[i+1] - Y4[i-1])/2*dt"
   ]
  }
 ],
 "metadata": {
  "kernelspec": {
   "display_name": ".venv",
   "language": "python",
   "name": "python3"
  },
  "language_info": {
   "codemirror_mode": {
    "name": "ipython",
    "version": 3
   },
   "file_extension": ".py",
   "mimetype": "text/x-python",
   "name": "python",
   "nbconvert_exporter": "python",
   "pygments_lexer": "ipython3",
   "version": "3.13.7"
  }
 },
 "nbformat": 4,
 "nbformat_minor": 5
}
