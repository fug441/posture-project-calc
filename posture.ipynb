{
 "cells": [
  {
   "cell_type": "code",
   "execution_count": 16,
   "id": "836de1b4",
   "metadata": {},
   "outputs": [
    {
     "name": "stdout",
     "output_type": "stream",
     "text": [
      "C:\\Users\\anaya\\CodeFiles\\Posture project calc\n"
     ]
    }
   ],
   "source": [
    "import os\n",
    "os.chdir(r\"C:\\Users\\anaya\\CodeFiles\\Posture project calc\")\n",
    "\n",
    "print(os.getcwd())"
   ]
  },
  {
   "cell_type": "code",
   "execution_count": 17,
   "id": "e73c7262",
   "metadata": {},
   "outputs": [
    {
     "data": {
      "text/plain": [
       "0    0.000082\n",
       "1    0.000144\n",
       "2    0.000219\n",
       "3    0.000299\n",
       "4    0.000372\n",
       "Name: Z7, dtype: float64"
      ]
     },
     "execution_count": 17,
     "metadata": {},
     "output_type": "execute_result"
    }
   ],
   "source": [
    "import pandas as pd\n",
    "import numpy as np\n",
    "import seaborn as sb\n",
    "\n",
    "df = pd.read_csv(\"1.csv\")\n",
    "df.to_numpy()\n",
    "df.head()\n",
    "\n",
    "posture1 = pd.read_csv(\"1.csv\", usecols=['X1', 'Z1'])\n",
    "posture2 = pd.read_csv(\"1.csv\", usecols=['X3', 'Z3'])\n",
    "posture3 = pd.read_csv(\"1.csv\", usecols=['X5', 'Z5'])\n",
    "posture4 = pd.read_csv(\"1.csv\", usecols=['X7', 'Z7'])\n",
    "\n",
    "\n",
    "\n",
    "X1= posture1.X1\n",
    "X2= posture2.X3\n",
    "X3= posture3.X5\n",
    "X4= posture4.X7\n",
    "\n",
    "Y1= posture1.Z1\n",
    "Y2= posture2.Z3\n",
    "Y3= posture3.Z5\n",
    "Y4= posture4.Z7\n",
    "\n",
    "X1.head()\n",
    "Y4.head()\n",
    "\n"
   ]
  },
  {
   "cell_type": "code",
   "execution_count": 18,
   "id": "4dbe0fb7",
   "metadata": {},
   "outputs": [
    {
     "name": "stdout",
     "output_type": "stream",
     "text": [
      "<class 'numpy.ndarray'>\n",
      "[0. 0. 0. ... 0. 0. 0.]\n"
     ]
    }
   ],
   "source": [
    "# Differentiation of t is 1 as time is confirmed to be monotonic.\n",
    "dt = 1 \n",
    "\n",
    "axes = {\"X1\": X1, \n",
    "        \"X2\": X2, \n",
    "        \"X3\": X3, \n",
    "        \"X4\": X4,\n",
    "\n",
    "        \"Y1\": Y1, \n",
    "        \"Y2\": Y2, \n",
    "        \"Y3\": Y3, \n",
    "        \"Y4\": Y4}\n",
    "\n",
    "\n",
    "#changing the global variable for X1, X2, etc instead of just changing the copy of it inside the axes dictionary.\n",
    "for key in axes:\n",
    "    globals()[key] = globals()[key].to_numpy() \n",
    "    axes[key] = globals()[key]\n",
    "\n",
    "\n",
    "for key, value in axes.items():\n",
    "    primes= globals()[f\"{key}_prime\"] =np.zeros_like(value)\n",
    "    primes2= globals()[f\"{key}_2prime\"] =np.zeros_like(value)\n",
    "\n",
    "print(type(X1))\n",
    "print(Y2_prime)\n",
    "\n",
    "\n",
    "\n"
   ]
  },
  {
   "cell_type": "code",
   "execution_count": 19,
   "id": "e53e5c8b",
   "metadata": {},
   "outputs": [
    {
     "name": "stdout",
     "output_type": "stream",
     "text": [
      "[ 5.00000000e-06  5.00000000e-06  8.56000000e-07 ... -1.00000000e-07\n",
      "  3.38813179e-21  3.38813179e-21]\n"
     ]
    }
   ],
   "source": [
    "for key, value in axes.items():\n",
    "    globals()[f\"{key}_prime\"][0] = (value[1] - value[0])/2*dt\n",
    "    globals()[f\"{key}_prime\"][-1]= (value[-1] - value[-2])/2*dt\n",
    "    globals()[f\"{key}_2prime\"][0] = (value[2] - 2*value[1] + value[0] )/dt**2\n",
    "    globals()[f\"{key}_2prime\"][-1] = (value[-1] - 2*value[-2] + value[-3])/dt**2\n",
    "\n",
    "#Taking the central difference for all the other records:\n",
    "for i in range(1, len(globals()[f\"{key}_prime\"])-1):\n",
    "    for key, value in axes.items():\n",
    "        globals()[f\"{key}_prime\"][i] = (value[i+1] - value[i-1])/2*dt\n",
    "        globals()[f\"{key}_2prime\"][i] = (value[i+1] - 2*value[i] + value[i-1])/dt**2\n",
    "\n",
    "print(X1_2prime)"
   ]
  },
  {
   "cell_type": "code",
   "execution_count": 20,
   "id": "e27421af",
   "metadata": {},
   "outputs": [
    {
     "name": "stdout",
     "output_type": "stream",
     "text": [
      "[-0.725      -0.72752809 -0.73815461 ...  1.24714286  1.48333333\n",
      "  1.59473684]\n"
     ]
    }
   ],
   "source": [
    "veri_smol_number = 0.00000001\n",
    "X_axes = {\n",
    "        \"X1\": X1, \n",
    "        \"X2\": X2, \n",
    "        \"X3\": X3, \n",
    "        \"X4\": X4}\n",
    "\n",
    "Y_axes = {\n",
    "        \"Y1\": Y1, \n",
    "        \"Y2\": Y2, \n",
    "        \"Y3\": Y3, \n",
    "        \"Y4\": Y4}\n",
    "\n",
    "\n",
    "X_primes = {\n",
    "        \"X1_prime\": X1_prime, \n",
    "        \"X2_prime\": X2_prime, \n",
    "        \"X3_prime\": X3_prime, \n",
    "        \"X4_prime\": X4_prime}\n",
    "\n",
    "Y_primes = {\n",
    "        \"Y1_prime\": Y1_prime, \n",
    "        \"Y2_prime\": Y2_prime, \n",
    "        \"Y3_prime\": Y3_prime, \n",
    "        \"Y4_prime\": Y4_prime}\n",
    "\n",
    "Y_2primes = {\n",
    "        \"Y1_2prime\": Y1_2prime, \n",
    "        \"Y2_2prime\": Y2_2prime, \n",
    "        \"Y3_2prime\": Y3_2prime, \n",
    "        \"Y4_2prime\": Y4_2prime}\n",
    "\n",
    "X_2primes = {\n",
    "        \"X1_2prime\": X1_2prime, \n",
    "        \"X2_2prime\": X2_2prime, \n",
    "        \"X3_2prime\": X3_2prime, \n",
    "        \"X4_2prime\": X4_2prime\n",
    "}\n",
    "\n",
    "\n",
    "dYdX= {}\n",
    "d2ydx2= {}\n",
    "for i in range(1, 5):\n",
    "        key = f\"dY{i}dX{i}\"\n",
    "        key2 = f\"dY2{i}dX2{i}\"\n",
    "        dYdX[key] = np.zeros_like(X1, dtype=float)\n",
    "        d2ydx2[key2] = np.zeros_like(X1, dtype=float)\n",
    "\n",
    "        x_key = f\"X{i}_prime\"\n",
    "        y_key = f\"Y{i}_prime\"\n",
    "        x_2key = f\"X{i}_2prime\"\n",
    "        y_2key = f\"Y{i}_2prime\"\n",
    "\n",
    "        for x in range(len(X1)):\n",
    "                if X_primes[x_key][x] > veri_smol_number:\n",
    "                        dYdX[key][x] = Y_primes[y_key][x] / X_primes[x_key][x]\n",
    "                        d2ydx2[key2][x] = (Y_2primes[y_2key][x] * X_primes[x_key][x]- Y_primes[y_key][x] * X_2primes[x_2key][x]) / (X_primes[x_key][x] ** 3)\n",
    "                else:\n",
    "                        dYdX[key][x] = np.nan\n",
    "                        d2ydx2[key2][x] = np.nan\n",
    "\n",
    "\n",
    "print(dYdX[\"dY2dX2\"])\n",
    "\n"
   ]
  }
 ],
 "metadata": {
  "kernelspec": {
   "display_name": "Python 3",
   "language": "python",
   "name": "python3"
  },
  "language_info": {
   "codemirror_mode": {
    "name": "ipython",
    "version": 3
   },
   "file_extension": ".py",
   "mimetype": "text/x-python",
   "name": "python",
   "nbconvert_exporter": "python",
   "pygments_lexer": "ipython3",
   "version": "3.13.7"
  }
 },
 "nbformat": 4,
 "nbformat_minor": 5
}
